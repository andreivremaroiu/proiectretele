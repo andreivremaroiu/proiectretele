{
 "cells": [
  {
   "cell_type": "code",
   "execution_count": null,
   "metadata": {},
   "outputs": [],
   "source": [
    "from google.colab import files\n",
    "uploaded = files.upload()"
   ]
  },
  {
   "cell_type": "code",
   "execution_count": 1,
   "metadata": {},
   "outputs": [],
   "source": [
    "# Importing necessary libraries\n",
    "import pandas as pd\n",
    "from sklearn.model_selection import train_test_split\n",
    "from sklearn.linear_model import LinearRegression\n",
    "from sklearn.metrics import mean_squared_error, mean_absolute_error\n",
    "from sklearn.ensemble import RandomForestRegressor\n",
    "from sklearn.model_selection import GridSearchCV"
   ]
  },
  {
   "cell_type": "code",
   "execution_count": null,
   "metadata": {},
   "outputs": [],
   "source": [
    "# Loading datasets\n",
    "translatoare_df = pd.read_csv('translatoareteleviziune.csv')\n",
    "statii_df = pd.read_csv('statiiteleviziune.csv')\n",
    "inflatie_df = pd.read_csv('ratainflatiei.csv')\n",
    "abonamente_df = pd.read_csv('abonamenteteleviziune.csv')"
   ]
  },
  {
   "cell_type": "code",
   "execution_count": null,
   "metadata": {},
   "outputs": [],
   "source": [
    "# Cleaning column names\n",
    "translatoare_df.columns = translatoare_df.columns.str.strip()\n",
    "translatoare_df = translatoare_df.iloc[:, :2]\n",
    "inflatie_df.columns = inflatie_df.columns.str.strip()\n",
    "abonamente_df.columns = abonamente_df.columns.str.strip()\n",
    "statii_df.columns = statii_df.columns.str.strip()\n",
    "\n",
    "# Merging datasets based on 'Anul' column\n",
    "merged_df = pd.merge(translatoare_df, statii_df, on='Anul', suffixes=('_translatoare', '_statii'))\n",
    "merged_df = pd.merge(merged_df, inflatie_df, on='Anul')\n",
    "merged_df = pd.merge(merged_df, abonamente_df, on='Anul', suffixes=('_inflatie', '_abonamente'))\n",
    "\n",
    "# Sorting DataFrame by 'Anul' column to maintain temporal order\n",
    "merged_df = merged_df.sort_values(by='Anul')\n",
    "\n",
    "# Splitting the data into training and testing sets\n",
    "train_index = int(0.8 * len(merged_df))\n",
    "X_train = merged_df.iloc[:train_index].drop('Rata valoare', axis=1)\n",
    "y_train = merged_df.iloc[:train_index]['Rata valoare']\n",
    "X_test = merged_df.iloc[train_index:].drop('Rata valoare', axis=1)\n",
    "y_test = merged_df.iloc[train_index:]['Rata valoare']"
   ]
  },
  {
   "cell_type": "code",
   "execution_count": null,
   "metadata": {},
   "outputs": [],
   "source": [
    "# Training a Linear Regression model\n",
    "model = LinearRegression()\n",
    "model.fit(X_train, y_train)\n",
    "y_pred = model.predict(X_test)\n",
    "mse = mean_squared_error(y_test, y_pred)\n",
    "mae = mean_absolute_error(y_test, y_pred)\n",
    "print(\"Mean Squared Error:\", mse)\n",
    "print(\"Mean Absolute Error:\", mae)"
   ]
  },
  {
   "cell_type": "code",
   "execution_count": null,
   "metadata": {},
   "outputs": [],
   "source": [
    "# Training a Random Forest Regressor model with hyperparameter optimization\n",
    "rf_model = RandomForestRegressor()\n",
    "param_grid = {\n",
    "    'n_estimators': [100, 200, 300],  \n",
    "    'max_depth': [10, 20, 30], \n",
    "    'min_samples_split': [2, 5, 10],\n",
    "    'min_samples_leaf': [1, 2, 4]\n",
    "}\n",
    "grid_search = GridSearchCV(estimator=rf_model, param_grid=param_grid, cv=3, n_jobs=-1, verbose=2)\n",
    "grid_search.fit(X_train, y_train)\n",
    "print(\"Best Hyperparameters:\", grid_search.best_params_)\n",
    "y_pred_rf = grid_search.predict(X_test)\n",
    "mse_rf = mean_squared_error(y_test, y_pred_rf)\n",
    "mae_rf = mean_absolute_error(y_test, y_pred_rf)\n",
    "print(\"Mean Squared Error (Random Forest):\", mse_rf)\n",
    "print(\"Mean Absolute Error (Random Forest):\", mae_rf)"
   ]
  }
 ],
 "metadata": {
  "kernelspec": {
   "display_name": "Python 3",
   "language": "python",
   "name": "python3"
  },
  "language_info": {
   "codemirror_mode": {
    "name": "ipython",
    "version": 3
   },
   "file_extension": ".py",
   "mimetype": "text/x-python",
   "name": "python",
   "nbconvert_exporter": "python",
   "pygments_lexer": "ipython3",
   "version": "3.11.1"
  }
 },
 "nbformat": 4,
 "nbformat_minor": 2
}
